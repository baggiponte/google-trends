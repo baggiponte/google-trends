{
 "cells": [
  {
   "cell_type": "markdown",
   "id": "c61cba4a-4665-4519-9e3f-c005a3d2779b",
   "metadata": {},
   "source": [
    "# Introduction "
   ]
  },
  {
   "cell_type": "markdown",
   "id": "0e33e88c-a91c-4f43-893b-a1fdf68a832d",
   "metadata": {},
   "source": [
    "This notebook is an attempt to concatenate the manually retrieved data in `02-data/manually_retrieved`."
   ]
  },
  {
   "cell_type": "code",
   "execution_count": 1,
   "id": "83866c1a-7bb3-40e0-8575-ca22403162d2",
   "metadata": {},
   "outputs": [],
   "source": [
    "import pandas as pd\n",
    "import os"
   ]
  },
  {
   "cell_type": "markdown",
   "id": "d17fc4a8-ee62-402e-849f-c79c570781a7",
   "metadata": {},
   "source": [
    "# Load Daily Data "
   ]
  },
  {
   "cell_type": "code",
   "execution_count": 2,
   "id": "2dfe6add-de96-4d52-9c56-7c071fef9e5c",
   "metadata": {},
   "outputs": [
    {
     "data": {
      "text/html": [
       "<div>\n",
       "<style scoped>\n",
       "    .dataframe tbody tr th:only-of-type {\n",
       "        vertical-align: middle;\n",
       "    }\n",
       "\n",
       "    .dataframe tbody tr th {\n",
       "        vertical-align: top;\n",
       "    }\n",
       "\n",
       "    .dataframe thead th {\n",
       "        text-align: right;\n",
       "    }\n",
       "</style>\n",
       "<table border=\"1\" class=\"dataframe\">\n",
       "  <thead>\n",
       "    <tr style=\"text-align: right;\">\n",
       "      <th></th>\n",
       "      <th>ecb_daily</th>\n",
       "      <th>batch</th>\n",
       "    </tr>\n",
       "    <tr>\n",
       "      <th>Day</th>\n",
       "      <th></th>\n",
       "      <th></th>\n",
       "    </tr>\n",
       "  </thead>\n",
       "  <tbody>\n",
       "    <tr>\n",
       "      <th>2012-01-01</th>\n",
       "      <td>28</td>\n",
       "      <td>0</td>\n",
       "    </tr>\n",
       "    <tr>\n",
       "      <th>2012-01-02</th>\n",
       "      <td>36</td>\n",
       "      <td>0</td>\n",
       "    </tr>\n",
       "    <tr>\n",
       "      <th>2012-01-03</th>\n",
       "      <td>66</td>\n",
       "      <td>0</td>\n",
       "    </tr>\n",
       "    <tr>\n",
       "      <th>2012-01-04</th>\n",
       "      <td>70</td>\n",
       "      <td>0</td>\n",
       "    </tr>\n",
       "    <tr>\n",
       "      <th>2012-01-05</th>\n",
       "      <td>65</td>\n",
       "      <td>0</td>\n",
       "    </tr>\n",
       "    <tr>\n",
       "      <th>...</th>\n",
       "      <td>...</td>\n",
       "      <td>...</td>\n",
       "    </tr>\n",
       "    <tr>\n",
       "      <th>2021-08-27</th>\n",
       "      <td>27</td>\n",
       "      <td>38</td>\n",
       "    </tr>\n",
       "    <tr>\n",
       "      <th>2021-08-28</th>\n",
       "      <td>43</td>\n",
       "      <td>38</td>\n",
       "    </tr>\n",
       "    <tr>\n",
       "      <th>2021-08-29</th>\n",
       "      <td>29</td>\n",
       "      <td>38</td>\n",
       "    </tr>\n",
       "    <tr>\n",
       "      <th>2021-08-30</th>\n",
       "      <td>42</td>\n",
       "      <td>38</td>\n",
       "    </tr>\n",
       "    <tr>\n",
       "      <th>2021-08-31</th>\n",
       "      <td>37</td>\n",
       "      <td>38</td>\n",
       "    </tr>\n",
       "  </tbody>\n",
       "</table>\n",
       "<p>3531 rows × 2 columns</p>\n",
       "</div>"
      ],
      "text/plain": [
       "            ecb_daily  batch\n",
       "Day                         \n",
       "2012-01-01         28      0\n",
       "2012-01-02         36      0\n",
       "2012-01-03         66      0\n",
       "2012-01-04         70      0\n",
       "2012-01-05         65      0\n",
       "...               ...    ...\n",
       "2021-08-27         27     38\n",
       "2021-08-28         43     38\n",
       "2021-08-29         29     38\n",
       "2021-08-30         42     38\n",
       "2021-08-31         37     38\n",
       "\n",
       "[3531 rows x 2 columns]"
      ]
     },
     "execution_count": 2,
     "metadata": {},
     "output_type": "execute_result"
    }
   ],
   "source": [
    "start_date = \"2012-01-01\"\n",
    "end_date = \"2021-08-31\"\n",
    "\n",
    "data_dir = \"../02-data/manually_retrieved/\"\n",
    "\n",
    "# exclude the monthly data file\n",
    "csv_files = [file for file in os.listdir(data_dir) if \"-ecb-\" in file]\n",
    "\n",
    "chained_data = pd.DataFrame()\n",
    "\n",
    "for batch_num, file in enumerate(csv_files):\n",
    "\n",
    "    filename = data_dir + file\n",
    "\n",
    "    temp = (\n",
    "        pd.read_csv(filename, parse_dates=[0], index_col=[0], skiprows=2)\n",
    "        .assign(batch=batch_num)\n",
    "        .rename({\"European Central Bank: (Worldwide)\": \"ecb_daily\"}, axis=1)\n",
    "    )\n",
    "\n",
    "    chained_data = chained_data.append(temp)\n",
    "\n",
    "chained_data"
   ]
  },
  {
   "cell_type": "markdown",
   "id": "af7d977c-3412-49e8-bbec-c540124da457",
   "metadata": {},
   "source": [
    "Then we need to extract a feature that looks like `YYYY-MM` to join later on monthly data."
   ]
  },
  {
   "cell_type": "code",
   "execution_count": 3,
   "id": "8e9eea3d-1014-4242-ab29-8d412a872825",
   "metadata": {},
   "outputs": [],
   "source": [
    "chained_data = (\n",
    "    chained_data\n",
    "    .reset_index()\n",
    "    .assign(\n",
    "        year_month = lambda x: x[\"Day\"].astype(\"str\").apply(lambda s: s[:7])\n",
    "    )\n",
    "    .rename({\"Day\": \"day\"}, axis=1)\n",
    "    .set_index(\"day\")\n",
    ")"
   ]
  },
  {
   "cell_type": "markdown",
   "id": "fa98d8dc-1874-41c8-bfeb-1ecd53a95d3a",
   "metadata": {},
   "source": [
    "# Load Monthly Data "
   ]
  },
  {
   "cell_type": "code",
   "execution_count": 4,
   "id": "216e4f0a-f461-4177-aa80-d02ed3daa7c2",
   "metadata": {},
   "outputs": [],
   "source": [
    "ecb_monthly = (\n",
    "    pd.read_csv(data_dir + \"ecb-monthly-2012_2021.csv\", skiprows=2)\n",
    "    .rename(\n",
    "        {\"European Central Bank: (Worldwide)\": \"ecb_monthly\", \"Month\": \"year_month\"}, axis=1\n",
    "    )\n",
    ")"
   ]
  },
  {
   "cell_type": "code",
   "execution_count": 5,
   "id": "09f3462c-a67a-4075-939b-430ddb5aa18c",
   "metadata": {},
   "outputs": [
    {
     "name": "stdout",
     "output_type": "stream",
     "text": [
      "<class 'pandas.core.frame.DataFrame'>\n",
      "DatetimeIndex: 3531 entries, 2012-01-01 to 2021-08-31\n",
      "Data columns (total 3 columns):\n",
      " #   Column      Non-Null Count  Dtype \n",
      "---  ------      --------------  ----- \n",
      " 0   ecb_daily   3531 non-null   int64 \n",
      " 1   batch       3531 non-null   int64 \n",
      " 2   year_month  3531 non-null   object\n",
      "dtypes: int64(2), object(1)\n",
      "memory usage: 110.3+ KB\n"
     ]
    }
   ],
   "source": [
    "chained_data.info()"
   ]
  },
  {
   "cell_type": "code",
   "execution_count": 6,
   "id": "fe32e8c8-9591-458d-bf5e-30eee4918706",
   "metadata": {},
   "outputs": [
    {
     "name": "stdout",
     "output_type": "stream",
     "text": [
      "<class 'pandas.core.frame.DataFrame'>\n",
      "RangeIndex: 116 entries, 0 to 115\n",
      "Data columns (total 2 columns):\n",
      " #   Column       Non-Null Count  Dtype \n",
      "---  ------       --------------  ----- \n",
      " 0   year_month   116 non-null    object\n",
      " 1   ecb_monthly  116 non-null    int64 \n",
      "dtypes: int64(1), object(1)\n",
      "memory usage: 1.9+ KB\n"
     ]
    }
   ],
   "source": [
    "ecb_monthly.info()"
   ]
  },
  {
   "cell_type": "code",
   "execution_count": 7,
   "id": "76cd3bf5-65f4-4897-ae8a-7345b3e1ac62",
   "metadata": {},
   "outputs": [],
   "source": [
    "ecb_daily = (\n",
    "    chained_data\n",
    "    # reset the index and set as index the column we want to merge on\n",
    "    .reset_index()\n",
    "    .set_index(\"year_month\")\n",
    "    .join(ecb_monthly.set_index(\"year_month\"), how=\"left\")\n",
    "    # reset the original index\n",
    "    .set_index(\"day\")\n",
    ")"
   ]
  },
  {
   "cell_type": "code",
   "execution_count": 8,
   "id": "b01f177a-bbf9-47ca-94b0-84275edfb4c7",
   "metadata": {},
   "outputs": [
    {
     "data": {
      "text/html": [
       "<div>\n",
       "<style scoped>\n",
       "    .dataframe tbody tr th:only-of-type {\n",
       "        vertical-align: middle;\n",
       "    }\n",
       "\n",
       "    .dataframe tbody tr th {\n",
       "        vertical-align: top;\n",
       "    }\n",
       "\n",
       "    .dataframe thead th {\n",
       "        text-align: right;\n",
       "    }\n",
       "</style>\n",
       "<table border=\"1\" class=\"dataframe\">\n",
       "  <thead>\n",
       "    <tr style=\"text-align: right;\">\n",
       "      <th></th>\n",
       "      <th>ecb_daily</th>\n",
       "      <th>batch</th>\n",
       "      <th>ecb_monthly</th>\n",
       "    </tr>\n",
       "    <tr>\n",
       "      <th>day</th>\n",
       "      <th></th>\n",
       "      <th></th>\n",
       "      <th></th>\n",
       "    </tr>\n",
       "  </thead>\n",
       "  <tbody>\n",
       "    <tr>\n",
       "      <th>2012-01-01</th>\n",
       "      <td>28</td>\n",
       "      <td>0</td>\n",
       "      <td>62</td>\n",
       "    </tr>\n",
       "    <tr>\n",
       "      <th>2012-01-02</th>\n",
       "      <td>36</td>\n",
       "      <td>0</td>\n",
       "      <td>62</td>\n",
       "    </tr>\n",
       "    <tr>\n",
       "      <th>2012-01-03</th>\n",
       "      <td>66</td>\n",
       "      <td>0</td>\n",
       "      <td>62</td>\n",
       "    </tr>\n",
       "    <tr>\n",
       "      <th>2012-01-04</th>\n",
       "      <td>70</td>\n",
       "      <td>0</td>\n",
       "      <td>62</td>\n",
       "    </tr>\n",
       "    <tr>\n",
       "      <th>2012-01-05</th>\n",
       "      <td>65</td>\n",
       "      <td>0</td>\n",
       "      <td>62</td>\n",
       "    </tr>\n",
       "    <tr>\n",
       "      <th>...</th>\n",
       "      <td>...</td>\n",
       "      <td>...</td>\n",
       "      <td>...</td>\n",
       "    </tr>\n",
       "    <tr>\n",
       "      <th>2021-08-27</th>\n",
       "      <td>27</td>\n",
       "      <td>38</td>\n",
       "      <td>23</td>\n",
       "    </tr>\n",
       "    <tr>\n",
       "      <th>2021-08-28</th>\n",
       "      <td>43</td>\n",
       "      <td>38</td>\n",
       "      <td>23</td>\n",
       "    </tr>\n",
       "    <tr>\n",
       "      <th>2021-08-29</th>\n",
       "      <td>29</td>\n",
       "      <td>38</td>\n",
       "      <td>23</td>\n",
       "    </tr>\n",
       "    <tr>\n",
       "      <th>2021-08-30</th>\n",
       "      <td>42</td>\n",
       "      <td>38</td>\n",
       "      <td>23</td>\n",
       "    </tr>\n",
       "    <tr>\n",
       "      <th>2021-08-31</th>\n",
       "      <td>37</td>\n",
       "      <td>38</td>\n",
       "      <td>23</td>\n",
       "    </tr>\n",
       "  </tbody>\n",
       "</table>\n",
       "<p>3531 rows × 3 columns</p>\n",
       "</div>"
      ],
      "text/plain": [
       "            ecb_daily  batch  ecb_monthly\n",
       "day                                      \n",
       "2012-01-01         28      0           62\n",
       "2012-01-02         36      0           62\n",
       "2012-01-03         66      0           62\n",
       "2012-01-04         70      0           62\n",
       "2012-01-05         65      0           62\n",
       "...               ...    ...          ...\n",
       "2021-08-27         27     38           23\n",
       "2021-08-28         43     38           23\n",
       "2021-08-29         29     38           23\n",
       "2021-08-30         42     38           23\n",
       "2021-08-31         37     38           23\n",
       "\n",
       "[3531 rows x 3 columns]"
      ]
     },
     "execution_count": 8,
     "metadata": {},
     "output_type": "execute_result"
    }
   ],
   "source": [
    "ecb_daily"
   ]
  },
  {
   "cell_type": "code",
   "execution_count": 10,
   "id": "7914432b-101f-4588-8c90-584be057d1b1",
   "metadata": {},
   "outputs": [],
   "source": [
    "ecb_daily.to_csv(data_dir + \"ecb-daily-2012_2021.csv\")"
   ]
  }
 ],
 "metadata": {
  "kernelspec": {
   "display_name": "Google Trends Data Retrieval",
   "language": "python",
   "name": "google-trend"
  },
  "language_info": {
   "codemirror_mode": {
    "name": "ipython",
    "version": 3
   },
   "file_extension": ".py",
   "mimetype": "text/x-python",
   "name": "python",
   "nbconvert_exporter": "python",
   "pygments_lexer": "ipython3",
   "version": "3.9.7"
  }
 },
 "nbformat": 4,
 "nbformat_minor": 5
}
