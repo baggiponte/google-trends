from datetime import datetime, timedelta

import matplotlib.pyplot as plt
import pandas as pd
import seaborn as sns

# custom functions to retrieve data
from gtrends import _fetch_data

# library to access google trends
from pytrends.request import TrendReq

# define parser
pytrend = TrendReq()

# make pandas types compatibile with matplotlib
pd.plotting.register_matplotlib_converters()

# change pandas plotting backend
pd.options.plotting.backend = "plotly"

# create a dictionary to unpack to update plotly plots settings
# why can't it be as easy as with ggplot...
plotly_dict = dict(
    font_family="Yanone Kaffeesatz",
    template="none",
    title={"x": 0.05, "xanchor": "left"},
)

sns.set_style(style="darkgrid", rc={"axes.facecolor": "0.9", "grid.color": "0.8"})
sns.set_palette(palette="deep")
get_ipython().run_line_magic("matplotlib", " inline")

plt.rcParams["figure.figsize"] = [12, 6]
plt.rcParams["figure.dpi"] = 100


# define a function to create a timespan
def _make_timeframe(start_date: datetime, end_date: datetime):

    date_format: str = "%Y-%m-%d"

    return start_date.strftime(date_format) + " " + end_date.strftime(date_format)


test_df = _fetch_data(
    trendreq=pytrend,
    kw_list="Mario Draghi",
)


test_df.info()


test_df.plot(
    y="Mario Draghi", title=f"{keywords[0]} from 2021-05-30 to 2021-08-27"
).update_layout(**plotly_dict)


# define format
date_format = "%Y-%m-%d"

# define start parameters
start: str = "2012-01-01"
end: str = "2021-08-27"
window: int = 90

# turn dates into datetime objects
start_date: datetime = datetime.strptime(start, date_format)
end_date: datetime = datetime.strptime(end, date_format)

# turn the window into a timedelta objects
window: timedelta = timedelta(days=window)

chunk_start: datetime = start_date
chunk_end: datetime = chunk_start + window

timespan_1 = _make_timeframe(chunk_start, chunk_end)


first_chunk = _fetch_data(
    trendreq=pytrend,
    kw_list="Mario Draghi",
    timeframe=timespan_1
).drop("isPartial", axis=1)

first_chunk.info()


first_chunk


# create overlapping windows
new_chunk_start = first_chunk.index[-1].date()
new_chunk_end = new_chunk_start + window

new_timespan = _make_timeframe(new_chunk_start, new_chunk_end)

print(new_timespan)


second_chunk = _fetch_data(
    trendreq=pytrend, kw_list="Mario Draghi", timeframe=new_timespan
).drop("isPartial", axis=1)

second_chunk.info()


def _compute_ratio(older_df: pd.DataFrame, recent_df: pd.DataFrame) -> int:
    """Takes the last row of the older dataframe and the first of the recent one and computes the ratio
    between the volume of the searches.

        Parameters
        ----------
        older_df: pd.DataFrame
            the older DataFrame with Google Trends Data
        recent_df: pd.DataFrame
            the newly fetched Google Trends DataFrame
    """

    return older_df.iloc[-1, 0] / recent_df.iloc[0, 0]


def _concat_chunk(older_df: pd.DataFrame, recent_df: pd.DataFrame) -> pd.DataFrame:
    """Scales the recent dataframe relative to the older one and concatenates the two, dropping the overlapping row

    Parameters
    ----------
    older_df: pd.DataFrame
        the older DataFrame with Google Trends Data
    recent_df: pd.DataFrame
        the newly fetched Google Trends DataFrame
    """

    ratio = _compute_ratio(older_df, recent_df)

    # scale the recent df by the ratio
    recent_df *= ratio

    return pd.concat([older_df[:-1], recent_df])


concat = _concat_chunk(first_chunk, second_chunk)

concat.plot(y="Mario Draghi", title=f"{keywords[0]}").update_layout(**plotly_dict)


from gtrends import get_daily_trend

pd.options.plotting.backend = "matplotlib"

# keywords to search
keywords = ["Mario Draghi", "Christine Lagarde", "Euro", "European Central Bank"]

# start and end date, YYYY-MM-DD format
start = "2012-01-01"
end = "2021-08-27"


win90 = get_daily_trend(trendreq=pytrend, keyword=keywords[0], start=start, end=end)

win180 = get_daily_trend(
    trendreq=pytrend, keyword=keywords[0], start=start, end=end, window=180
)

win269 = get_daily_trend(
    trendreq=pytrend, keyword=keywords[0], start=start, end=end, window=269
)


fig, ax = plt.subplots(3, 1, figsize=(16, 8))

win90.plot(ax=ax[0], xlabel="")

win180.plot(ax=ax[1], xlabel="")

win269.plot(ax=ax[2], xlabel="date")

plt.suptitle("Scaling with last observation")

plt.show()

fig.savefig("figures/last_obs_overlap/draghi_comparison.png")


# define format
date_format = "%Y-%m-%d"

# define start parameters
start: str = "2012-01-01"
end: str = "2021-08-27"
window: int = 90

# turn dates into datetime objects
start_date: datetime = datetime.strptime(start, date_format)
end_date: datetime = datetime.strptime(end, date_format)

# turn the window into a timedelta objects
window: timedelta = timedelta(days=window)

chunk_start: datetime = start_date
chunk_end: datetime = chunk_start + window

timeframe = _make_timeframe(chunk_start, chunk_end)


first_chunk = _fetch_data(
    trendreq=pytrend, kw_list="Mario Draghi"
).drop("isPartial", axis=1)

first_chunk.info()


trendreq = TrendReq()

trendreq.build_payload("Mario Draghi", timeframe="today 3-m")
trendreq.interest_over_time()
