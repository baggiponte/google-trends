{
 "cells": [
  {
   "cell_type": "markdown",
   "id": "31478ee5-a192-4f4f-a251-43ede08d06d4",
   "metadata": {},
   "source": [
    "# Import Libraries"
   ]
  },
  {
   "cell_type": "code",
   "execution_count": 1,
   "id": "34fce97d-7c92-48b5-86c2-f0709eca2531",
   "metadata": {},
   "outputs": [],
   "source": [
    "# plotting\n",
    "import matplotlib.pyplot as plt\n",
    "\n",
    "# manipulate data\n",
    "import pandas as pd\n",
    "\n",
    "# more plotting\n",
    "import seaborn as sns\n",
    "\n",
    "# custom functions\n",
    "from gtrends.get_daily_data import og_get_daily_trend as get_daily_trend\n",
    "\n",
    "# pytrends library\n",
    "from pytrends.dailydata import get_daily_data\n",
    "from pytrends.request import TrendReq\n",
    "\n",
    "pytrend = TrendReq()\n",
    "\n",
    "# make pandas types compatibile with matplotlibs\n",
    "pd.plotting.register_matplotlib_converters()\n",
    "\n",
    "sns_dict = {\n",
    "    \"axes.facecolor\": \"1\",\n",
    "    \"grid.color\": \"0.9\",\n",
    "    \"font.family\": [\"sans-serif\"],\n",
    "    \"font.sans-serif\": [\"Yanone Kaffeesatz\", \"DejaVu Sans\"],\n",
    "}\n",
    "\n",
    "sns.set_style(style=\"whitegrid\", rc=sns_dict)\n",
    "sns.set_palette(palette=\"deep\")\n",
    "%matplotlib inline\n",
    "\n",
    "plt.rcParams[\"figure.figsize\"] = [12, 6]\n",
    "plt.rcParams[\"figure.dpi\"] = 100"
   ]
  },
  {
   "cell_type": "markdown",
   "id": "b94de914-4466-4643-a421-01f9d0c7b389",
   "metadata": {
    "tags": []
   },
   "source": [
    "# Define Default Values for Data Retrieval"
   ]
  },
  {
   "cell_type": "code",
   "execution_count": 2,
   "id": "0235d6d2-bbc2-48b7-9454-e73332687043",
   "metadata": {},
   "outputs": [],
   "source": [
    "keywords = [\"Mario Draghi\", \"Christine Lagarde\", \"Euro\", \"European Central Bank\"]\n",
    "\n",
    "start_date = \"2012-01-01\"\n",
    "end_date = \"2021-08-31\""
   ]
  },
  {
   "cell_type": "markdown",
   "id": "6ae15ffa-38e9-4264-8eaf-db0aa633152a",
   "metadata": {},
   "source": [
    "# Monthly Data"
   ]
  },
  {
   "cell_type": "markdown",
   "id": "5c2d7b61-56d5-446c-ad44-099b33082393",
   "metadata": {},
   "source": [
    "## Retrieve Monthly Data"
   ]
  },
  {
   "cell_type": "code",
   "execution_count": 11,
   "id": "85fa0e70-2cda-4980-bfcb-3c6efcc85bd3",
   "metadata": {},
   "outputs": [
    {
     "name": "stdout",
     "output_type": "stream",
     "text": [
      "Retrieving monthly data for Mario Draghi, timespan = 2012-01-01 2019-10-31\n",
      "Retrieving monthly data for Christine Lagarde, timespan = 2019-11-01 2021-08-31\n",
      "Retrieving monthly data for Euro, timespan = 2012-01-01 2021-08-31\n",
      "Retrieving monthly data for European Central Bank, timespan = 2012-01-01 2021-08-31\n"
     ]
    }
   ],
   "source": [
    "monthly_data = (\n",
    "    pd.DataFrame(index=pd.date_range(start_date, end_date))\n",
    "    .asfreq(\"MS\")\n",
    ")\n",
    "\n",
    "for keyword in keywords:\n",
    "    \n",
    "    if keyword == \"Mario Draghi\":\n",
    "        timespan = f\"{start_date} 2019-10-31\" # end of his mandate\n",
    "    elif keyword == \"Christine Lagarde\":\n",
    "        timespan = f\"2019-11-01 {end_date}\"\n",
    "    else:\n",
    "        timespan = f\"{start_date} {end_date}\"\n",
    "\n",
    "    print(f\"Retrieving monthly data for {keyword}, timespan = {timespan}\")\n",
    "    pytrend.build_payload([keyword], timeframe=timespan)\n",
    "\n",
    "    downloaded_data = (\n",
    "        # retrieve the data\n",
    "        pytrend.interest_over_time()\n",
    "        # drop unneded col\n",
    "        .drop(columns=\"isPartial\")\n",
    "        # cast as integers\n",
    "        .astype(\"int\")\n",
    "        # rename columns in snakecase\n",
    "        .rename(columns={\n",
    "            keyword: keyword.replace(\" \", \"_\").lower()\n",
    "        })\n",
    "    )\n",
    "    \n",
    "    monthly_data = monthly_data.merge(downloaded_data, how=\"left\", left_index=True, right_index=True)"
   ]
  },
  {
   "cell_type": "code",
   "execution_count": 12,
   "id": "06c17640-6978-4bec-8bb1-7de7ea2b7970",
   "metadata": {},
   "outputs": [
    {
     "data": {
      "text/html": [
       "<div>\n",
       "<style scoped>\n",
       "    .dataframe tbody tr th:only-of-type {\n",
       "        vertical-align: middle;\n",
       "    }\n",
       "\n",
       "    .dataframe tbody tr th {\n",
       "        vertical-align: top;\n",
       "    }\n",
       "\n",
       "    .dataframe thead th {\n",
       "        text-align: right;\n",
       "    }\n",
       "</style>\n",
       "<table border=\"1\" class=\"dataframe\">\n",
       "  <thead>\n",
       "    <tr style=\"text-align: right;\">\n",
       "      <th></th>\n",
       "      <th>mario_draghi</th>\n",
       "      <th>christine_lagarde</th>\n",
       "      <th>euro</th>\n",
       "      <th>european_central_bank</th>\n",
       "    </tr>\n",
       "  </thead>\n",
       "  <tbody>\n",
       "    <tr>\n",
       "      <th>2012-01-01</th>\n",
       "      <td>26.0</td>\n",
       "      <td>NaN</td>\n",
       "      <td>12</td>\n",
       "      <td>90</td>\n",
       "    </tr>\n",
       "    <tr>\n",
       "      <th>2012-02-01</th>\n",
       "      <td>26.0</td>\n",
       "      <td>NaN</td>\n",
       "      <td>12</td>\n",
       "      <td>100</td>\n",
       "    </tr>\n",
       "    <tr>\n",
       "      <th>2012-03-01</th>\n",
       "      <td>16.0</td>\n",
       "      <td>NaN</td>\n",
       "      <td>11</td>\n",
       "      <td>78</td>\n",
       "    </tr>\n",
       "    <tr>\n",
       "      <th>2012-04-01</th>\n",
       "      <td>24.0</td>\n",
       "      <td>NaN</td>\n",
       "      <td>12</td>\n",
       "      <td>75</td>\n",
       "    </tr>\n",
       "    <tr>\n",
       "      <th>2012-05-01</th>\n",
       "      <td>23.0</td>\n",
       "      <td>NaN</td>\n",
       "      <td>18</td>\n",
       "      <td>87</td>\n",
       "    </tr>\n",
       "    <tr>\n",
       "      <th>...</th>\n",
       "      <td>...</td>\n",
       "      <td>...</td>\n",
       "      <td>...</td>\n",
       "      <td>...</td>\n",
       "    </tr>\n",
       "    <tr>\n",
       "      <th>2021-04-01</th>\n",
       "      <td>NaN</td>\n",
       "      <td>NaN</td>\n",
       "      <td>16</td>\n",
       "      <td>39</td>\n",
       "    </tr>\n",
       "    <tr>\n",
       "      <th>2021-05-01</th>\n",
       "      <td>NaN</td>\n",
       "      <td>NaN</td>\n",
       "      <td>17</td>\n",
       "      <td>47</td>\n",
       "    </tr>\n",
       "    <tr>\n",
       "      <th>2021-06-01</th>\n",
       "      <td>NaN</td>\n",
       "      <td>NaN</td>\n",
       "      <td>101</td>\n",
       "      <td>31</td>\n",
       "    </tr>\n",
       "    <tr>\n",
       "      <th>2021-07-01</th>\n",
       "      <td>NaN</td>\n",
       "      <td>NaN</td>\n",
       "      <td>50</td>\n",
       "      <td>32</td>\n",
       "    </tr>\n",
       "    <tr>\n",
       "      <th>2021-08-01</th>\n",
       "      <td>NaN</td>\n",
       "      <td>6.0</td>\n",
       "      <td>16</td>\n",
       "      <td>36</td>\n",
       "    </tr>\n",
       "  </tbody>\n",
       "</table>\n",
       "<p>116 rows × 4 columns</p>\n",
       "</div>"
      ],
      "text/plain": [
       "            mario_draghi  christine_lagarde  euro  european_central_bank\n",
       "2012-01-01          26.0                NaN    12                     90\n",
       "2012-02-01          26.0                NaN    12                    100\n",
       "2012-03-01          16.0                NaN    11                     78\n",
       "2012-04-01          24.0                NaN    12                     75\n",
       "2012-05-01          23.0                NaN    18                     87\n",
       "...                  ...                ...   ...                    ...\n",
       "2021-04-01           NaN                NaN    16                     39\n",
       "2021-05-01           NaN                NaN    17                     47\n",
       "2021-06-01           NaN                NaN   101                     31\n",
       "2021-07-01           NaN                NaN    50                     32\n",
       "2021-08-01           NaN                6.0    16                     36\n",
       "\n",
       "[116 rows x 4 columns]"
      ]
     },
     "execution_count": 12,
     "metadata": {},
     "output_type": "execute_result"
    }
   ],
   "source": [
    "monthly_data"
   ]
  }
 ],
 "metadata": {
  "citation-manager": {
   "items": {}
  },
  "kernelspec": {
   "display_name": "Google Trends Data Retrieval",
   "language": "python",
   "name": "google-trends"
  },
  "language_info": {
   "codemirror_mode": {
    "name": "ipython",
    "version": 3
   },
   "file_extension": ".py",
   "mimetype": "text/x-python",
   "name": "python",
   "nbconvert_exporter": "python",
   "pygments_lexer": "ipython3",
   "version": "3.9.7"
  }
 },
 "nbformat": 4,
 "nbformat_minor": 5
}
