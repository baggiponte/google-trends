{
 "cells": [
  {
   "cell_type": "markdown",
   "id": "d6937b1e-4463-483d-86cc-67ff0fd7e772",
   "metadata": {
    "tags": []
   },
   "source": [
    "# Import Libraries and Setup"
   ]
  },
  {
   "cell_type": "code",
   "execution_count": 4,
   "id": "6444b3ce-72d1-4fe4-9cc8-8b5888e90844",
   "metadata": {},
   "outputs": [],
   "source": [
    "# plotting\n",
    "import matplotlib.pyplot as plt\n",
    "\n",
    "# manipulate data\n",
    "import pandas as pd\n",
    "\n",
    "# more plotting\n",
    "import seaborn as sns\n",
    "\n",
    "# custom functions\n",
    "from gtrends import og_get_daily_trend as get_daily_trend\n",
    "\n",
    "# library to access google trends\n",
    "from pytrends.request import TrendReq\n",
    "\n",
    "# make pandas types compatibile with matplotlib\n",
    "pd.plotting.register_matplotlib_converters()\n",
    "\n",
    "# change pandas plotting backend\n",
    "pd.options.plotting.backend = \"plotly\"\n",
    "\n",
    "# create a dictionary to unpack to update plotly plots settings\n",
    "# why can't it be as easy as with ggplot...\n",
    "plotly_dict = dict(\n",
    "    font_family=\"Yanone Kaffeesatz\",\n",
    "    template=\"none\",\n",
    "    title={\"x\": 0.05, \"xanchor\": \"left\"},\n",
    ")\n",
    "\n",
    "sns.set_style(style=\"darkgrid\", rc={\"axes.facecolor\": \"0.9\", \"grid.color\": \"0.8\"})\n",
    "sns.set_palette(palette=\"deep\")\n",
    "%matplotlib inline\n",
    "\n",
    "plt.rcParams[\"figure.figsize\"] = [12, 6]\n",
    "plt.rcParams[\"figure.dpi\"] = 100"
   ]
  },
  {
   "cell_type": "markdown",
   "id": "b20f38da-6e88-4473-8c45-8a7f8093140b",
   "metadata": {
    "tags": []
   },
   "source": [
    "# Create Functions"
   ]
  },
  {
   "cell_type": "code",
   "execution_count": 2,
   "id": "a9e72d7d-35aa-438f-bef8-8c5b52c093ee",
   "metadata": {},
   "outputs": [],
   "source": [
    "from typing import Any, List\n",
    "\n",
    "\n",
    "def query_data(keyword: str, overlap: List[int], trendreq: Any, start: str, end: str):\n",
    "    \"\"\"Retrieves data form Google Trends\"\"\"\n",
    "    \n",
    "    index_range = pd.date_range(start=start, end=end, freq=\"D\")\n",
    "    \n",
    "    df = pd.DataFrame()\n",
    "    \n",
    "    for window in overlap:\n",
    "        df[f\"{keyword}_{window}\"] = get_daily_trend(\n",
    "            trendreq, keyword=keyword, start=start, end=end, overlap=window\n",
    "        ).drop([\"overlap\"], axis=1)\n",
    "\n",
    "\n",
    "def create_df(first_trend, second_trend, kw: str):\n",
    "    \"\"\"Creates a DataFrame from Google Trend 'queries'\"\"\"\n",
    "    return pd.merge(\n",
    "        first_trend.drop([\"overlap\"], axis=1),\n",
    "        second_trend.drop([\"overlap\"], axis=1),\n",
    "        left_index=True,\n",
    "        right_index=True,\n",
    "    ).rename(\n",
    "        columns={\n",
    "            f\"{kw}_x\": f\"{kw.lower().replace(' ', '_')}_30\",\n",
    "            f\"{kw}_y\": f\"{kw.lower().replace(' ', '_')}_100\",\n",
    "        }\n",
    "    )\n",
    "\n",
    "\n",
    "def get_data(\n",
    "    keyword: str,\n",
    "    overlap: List[int],\n",
    "    trendreq: Any,\n",
    "    start: str,\n",
    "    end: str,\n",
    "    save_csv: bool = True,\n",
    "):\n",
    "    \"\"\"Combines query_data and create_df\"\"\"\n",
    "    \n",
    "    df = pd.DataFrame()\n",
    "    \n",
    "    for lag in overlap:\n",
    "        df[f\"keyword_{lag}\"] = query_data(\n",
    "        keyword=keyword, overlap=overlap, trendreq=trendreq, start=start, end=end\n",
    "    )\n",
    "    \n",
    "    df = create_df(first_trend=series1, second_trend=series2, kw=keyword)\n",
    "\n",
    "    if save_csv:\n",
    "        df.to_csv(f\"./data/{keyword.lower().replace(' ', '_')}.csv\")\n",
    "\n",
    "    return df\n",
    "\n",
    "\n",
    "def make_comparison_plot(\n",
    "    keyword: str,\n",
    "    df: pd.DataFrame,\n",
    "    lags: List[int],\n",
    "    save_fig: bool = True,\n",
    "):\n",
    "    \"\"\"Plots two overlapping windows\"\"\"\n",
    "\n",
    "    fig, ax = plt.subplots()\n",
    "\n",
    "    def make_plot(data, col, lag, ax):\n",
    "        sns.lineplot(\n",
    "            x=data.index, y=col, data=data, alpha=0.5, label=f\"{lag} days lag\", ax=ax\n",
    "        )\n",
    "\n",
    "    make_plot(data=df, col=df.columns[0], lag=lags[0], ax=ax)\n",
    "    make_plot(data=df, col=df.columns[1], lag=lags[1], ax=ax)\n",
    "\n",
    "    plt.suptitle(f\"{keyword} Google Trend Volume, 30 and 100 days overlap\")\n",
    "\n",
    "    if save_fig:\n",
    "        fig.savefig(f\"./figures/{keyword.lower().replace(' ', '_')}.png\")\n",
    "\n",
    "    return fig, ax"
   ]
  },
  {
   "cell_type": "code",
   "execution_count": 3,
   "id": "e2b027f9-0150-4e93-ab8f-5eb17c71793b",
   "metadata": {},
   "outputs": [],
   "source": [
    "keyword = \"Mario Draghi\"\n",
    "overlap = [30, 100]\n",
    "pytrend = TrendReq()\n",
    "start = \"2012-01-01\"\n",
    "end = \"2021-08-31\""
   ]
  },
  {
   "cell_type": "code",
   "execution_count": null,
   "id": "f42d9597-31c3-4602-a258-02535dfffeb0",
   "metadata": {},
   "outputs": [],
   "source": [
    "query_data(keyword, , )"
   ]
  }
 ],
 "metadata": {
  "citation-manager": {
   "items": {}
  },
  "kernelspec": {
   "display_name": "Google Trends Data Retrieval",
   "language": "python",
   "name": "google-trends"
  },
  "language_info": {
   "codemirror_mode": {
    "name": "ipython",
    "version": 3
   },
   "file_extension": ".py",
   "mimetype": "text/x-python",
   "name": "python",
   "nbconvert_exporter": "python",
   "pygments_lexer": "ipython3",
   "version": "3.9.7"
  }
 },
 "nbformat": 4,
 "nbformat_minor": 5
}
